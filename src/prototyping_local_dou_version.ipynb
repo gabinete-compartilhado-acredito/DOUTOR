{
 "cells": [
  {
   "cell_type": "markdown",
   "metadata": {
    "heading_collapsed": true
   },
   "source": [
    "# Prototyping for local captura_dou version\n",
    "---"
   ]
  },
  {
   "cell_type": "markdown",
   "metadata": {
    "hidden": true
   },
   "source": [
    "## Prototyping"
   ]
  },
  {
   "cell_type": "code",
   "execution_count": null,
   "metadata": {
    "hidden": true
   },
   "outputs": [],
   "source": [
    "import time\n",
    "import capture_driver as cd\n",
    "import global_settings as gs\n",
    "\n",
    "if not gs.local:\n",
    "    import boto3                                  \n",
    "    from dynamodb_json import json_util as dyjson"
   ]
  },
  {
   "cell_type": "code",
   "execution_count": null,
   "metadata": {
    "hidden": true
   },
   "outputs": [],
   "source": [
    "def lambda_handler(event, context):\n",
    "    client = boto3.client('dynamodb')\n",
    "    \n",
    "    # Load config from AWS DynamoDB:\n",
    "    config = client.get_item(TableName=\"configs\",  Key={'name': {'S': 'capture_DOU'}})\n",
    "    config = dyjson.loads(config)['Item']\n",
    "    \n",
    "    # Run DOU articles capture:\n",
    "    updated_config = cd.capture_DOU_driver(config)\n",
    "    \n",
    "    # Save config to AWS DynamoDB:\n",
    "    response = client.put_item(TableName=\"configs\", Item=dyjson.dumps(updated_config, as_dict=True))"
   ]
  },
  {
   "cell_type": "code",
   "execution_count": null,
   "metadata": {
    "hidden": true
   },
   "outputs": [],
   "source": [
    "def local_scheduler(config):\n",
    "    while True:\n",
    "        print(time.strftime('%Y-%m-%d %H:%M:%S', time.localtime()))\n",
    "        config = cd.capture_DOU_driver(config)\n",
    "        time.sleep(60*config['sched_interval'])"
   ]
  },
  {
   "cell_type": "code",
   "execution_count": null,
   "metadata": {
    "hidden": true
   },
   "outputs": [],
   "source": []
  },
  {
   "cell_type": "code",
   "execution_count": null,
   "metadata": {
    "hidden": true
   },
   "outputs": [],
   "source": [
    "local_scheduler('../configs/capture_DOU_test.json')"
   ]
  },
  {
   "cell_type": "markdown",
   "metadata": {
    "hidden": true
   },
   "source": [
    "## Work bench"
   ]
  },
  {
   "cell_type": "markdown",
   "metadata": {},
   "source": [
    "# Propotype new excerto"
   ]
  },
  {
   "cell_type": "code",
   "execution_count": null,
   "metadata": {},
   "outputs": [],
   "source": [
    "def get_excert(paragraph):\n",
    "    \"\"\"\n",
    "    Gets a string \"paragraph\", split it by \" | \" (which we used to \n",
    "    separate multiple paragraphs), and returns the combination of parts of the first \n",
    "    and second paragraphs. If there is just one paragraph, returns a part of it.\n",
    "    \"\"\"\n",
    "    paragraph_list = paragraph.split('|')\n",
    "    if len(paragraph_list) > 1:\n",
    "        return paragraph_list[0][:200] + '... | ...' + paragraph_list[1][:200] \n",
    "    else:\n",
    "        return paragraph_list[0][:300]\n",
    "    \n",
    "\n",
    "def make_resumo(paragraph):\n",
    "    \"\"\"\n",
    "    Given a string 'paragraph' with all paragraphs of the DOU's article\n",
    "    (separated by ' | '), creates a excert that acts as an abstract of \n",
    "    the article and return it.\n",
    "    \"\"\"\n",
    "    if type(paragraph) == str:\n",
    "        # Look for a marker of start of a possible resumo:\n",
    "        marker = 'resolve: | '\n",
    "        marker_start = paragraph.find(marker)\n",
    "        # If no marker, just take the first paragraphs:\n",
    "        if marker_start == -1:\n",
    "            resumo = get_excert(paragraph)\n",
    "        # If marker, get the following paragraphs:\n",
    "        else:\n",
    "            marker_end = marker_start + len(marker)\n",
    "            paragraph  = paragraph[marker_end:]\n",
    "            resumo = get_excert(paragraph)\n",
    "        # Add ... to end of resumo if not the end of a phrase:\n",
    "        if resumo[-1] != '.' and resumo[-2:] != '. ':\n",
    "            resumo = resumo + '...'\n",
    "        return resumo\n",
    "    else:\n",
    "        return None\n",
    "    "
   ]
  },
  {
   "cell_type": "markdown",
   "metadata": {},
   "source": [
    "### Testing"
   ]
  },
  {
   "cell_type": "code",
   "execution_count": 1,
   "metadata": {},
   "outputs": [],
   "source": [
    "config = {\n",
    "    \"sched_interval\": 60,\n",
    "    \"date_format\": \"%Y-%m-%d\",\n",
    "    \"end_date\": \"2019-07-11\",\n",
    "    \"timedelta\": 0,\n",
    "    \"secao\": [\"e\"],\n",
    "    \"secao_all\":[1,2,\"e\"],\n",
    "    \"last_extra\": 0,\n",
    "    \"storage_path\": \"../temp/\",\n",
    "    \"save_articles\": False,\n",
    "    \"filter_file\": \"../filters/all_DOU_filters_2019-07-01.json\",\n",
    "    \"post_articles\": True,\n",
    "    \"slack_token\": \"../keys-configs/slack_token.pass\"\n",
    "}"
   ]
  },
  {
   "cell_type": "code",
   "execution_count": 2,
   "metadata": {},
   "outputs": [],
   "source": [
    "import requests\n",
    "# This project's functions:\n",
    "import global_settings as gs\n",
    "import get_articles_url as gu\n",
    "import parse_dou_article as pa\n",
    "import write_article as wa\n",
    "import filter_articles as fa\n",
    "import structure_article as sa\n",
    "import post_to_slack as ps\n"
   ]
  },
  {
   "cell_type": "code",
   "execution_count": 3,
   "metadata": {},
   "outputs": [
    {
     "name": "stdout",
     "output_type": "stream",
     "text": [
      "Getting articles' URLs...\n",
      "Starting get_articles_url with config:\n",
      "{'sched_interval': 60, 'date_format': '%Y-%m-%d', 'end_date': '2019-07-11', 'timedelta': 0, 'secao': ['e'], 'secao_all': [1, 2, 'e'], 'last_extra': 0, 'storage_path': '../temp/', 'save_articles': False, 'filter_file': '../filters/all_DOU_filters_2019-07-01.json', 'post_articles': True, 'slack_token': '../keys-configs/slack_token.pass'}\n",
      "Reading date range...\n",
      "Reading selected sections...\n",
      "Will enter loop over config date and section range:\n",
      "-- 2019-07-11\n",
      "   -- se\n",
      "      Looping over URLs...\n",
      "# URLs: 9\n"
     ]
    }
   ],
   "source": [
    "    # Get list of URLs and filenames (in case one wants to save the articles):    \n",
    "    if gs.debug:\n",
    "        print(\"Getting articles' URLs...\")\n",
    "    url_file_list, next_config = gu.get_articles_url(config)\n",
    "    Nurls = len(url_file_list)\n",
    "    if True or gs.debug:\n",
    "        print('# URLs:', Nurls)"
   ]
  },
  {
   "cell_type": "code",
   "execution_count": 4,
   "metadata": {},
   "outputs": [],
   "source": [
    "# Specifies number of retries for GET:\n",
    "session = requests.Session()\n",
    "session.mount('http://www.in.gov.br', requests.adapters.HTTPAdapter(max_retries=3))\n"
   ]
  },
  {
   "cell_type": "code",
   "execution_count": 19,
   "metadata": {},
   "outputs": [
    {
     "name": "stdout",
     "output_type": "stream",
     "text": [
      "Art. 1º Fica habilitado o Município descrito no anexo a esta Portaria a receber recursos referentes ao incremento temporário do Piso da Atenção Básica (PAB). ... | ... Art. 2º Os recursos tratados nesta Portaria referem-se à aplicação das emendas parlamentares para incremento temporário do Piso da Atenção Básica (PAB), observando o disposto no Capítulo II da Portar...\n"
     ]
    }
   ],
   "source": [
    "url_file = url_file_list[6]\n",
    "#url_file['url'] = 'http://www.in.gov.br/web/dou/-/decreto-de-19-de-junho-de-2019-167085561'\n",
    "#url_file['url'] = 'http://www.in.gov.br/web/dou/-/portaria-n-70-de-12-de-agosto-de-2019-210735799'\n",
    "#url_file['url'] = 'http://www.in.gov.br/web/dou/-/portaria-n-1.480-de-9-de-agosto-de-2019-210283760'\n",
    "#url_file['url'] = 'http://www.in.gov.br/web/dou/-/despacho-209287540'\n",
    "#url_file['url'] = 'http://www.in.gov.br/web/dou/-/portaria-n-1.303-de-1-de-julho-de-2019-209010426'\n",
    "response = session.get(url_file['url'], timeout=5)\n",
    "\n",
    "raw_article = pa.parse_dou_article(response, url_file['url'])\n",
    "\n",
    "article = sa.structure_article(raw_article)\n",
    "\n",
    "print(article['resumo'])"
   ]
  },
  {
   "cell_type": "code",
   "execution_count": null,
   "metadata": {},
   "outputs": [],
   "source": []
  }
 ],
 "metadata": {
  "kernelspec": {
   "display_name": "Python 3",
   "language": "python",
   "name": "python3"
  },
  "language_info": {
   "codemirror_mode": {
    "name": "ipython",
    "version": 3
   },
   "file_extension": ".py",
   "mimetype": "text/x-python",
   "name": "python",
   "nbconvert_exporter": "python",
   "pygments_lexer": "ipython3",
   "version": "3.6.8"
  }
 },
 "nbformat": 4,
 "nbformat_minor": 2
}

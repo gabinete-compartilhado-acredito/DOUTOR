{
 "cells": [
  {
   "cell_type": "markdown",
   "metadata": {},
   "source": [
    "# Prototyping for local captura_dou version\n",
    "---"
   ]
  },
  {
   "cell_type": "markdown",
   "metadata": {},
   "source": [
    "## Prototyping"
   ]
  },
  {
   "cell_type": "code",
   "execution_count": null,
   "metadata": {},
   "outputs": [],
   "source": [
    "import time\n",
    "import capture_driver as cd\n",
    "import global_settings as gs\n",
    "\n",
    "if not gs.local:\n",
    "    import boto3                                  \n",
    "    from dynamodb_json import json_util as dyjson"
   ]
  },
  {
   "cell_type": "code",
   "execution_count": null,
   "metadata": {},
   "outputs": [],
   "source": [
    "def lambda_handler(event, context):\n",
    "    client = boto3.client('dynamodb')\n",
    "    \n",
    "    # Load config from AWS DynamoDB:\n",
    "    config = client.get_item(TableName=\"configs\",  Key={'name': {'S': 'capture_DOU'}})\n",
    "    config = dyjson.loads(config)['Item']\n",
    "    \n",
    "    # Run DOU articles capture:\n",
    "    updated_config = cd.capture_DOU_driver(config)\n",
    "    \n",
    "    # Save config to AWS DynamoDB:\n",
    "    response = client.put_item(TableName=\"configs\", Item=dyjson.dumps(updated_config, as_dict=True))"
   ]
  },
  {
   "cell_type": "code",
   "execution_count": null,
   "metadata": {},
   "outputs": [],
   "source": [
    "def local_scheduler(config):\n",
    "    while True:\n",
    "        print(time.strftime('%Y-%m-%d %H:%M:%S', time.localtime()))\n",
    "        config = cd.capture_DOU_driver(config)\n",
    "        time.sleep(60*config['sched_interval'])"
   ]
  },
  {
   "cell_type": "code",
   "execution_count": null,
   "metadata": {},
   "outputs": [],
   "source": []
  },
  {
   "cell_type": "code",
   "execution_count": null,
   "metadata": {},
   "outputs": [],
   "source": [
    "local_scheduler('../configs/capture_DOU_test.json')"
   ]
  },
  {
   "cell_type": "markdown",
   "metadata": {},
   "source": [
    "## Work bench"
   ]
  },
  {
   "cell_type": "markdown",
   "metadata": {},
   "source": [
    "# Propotype new excerto"
   ]
  },
  {
   "cell_type": "code",
   "execution_count": null,
   "metadata": {},
   "outputs": [],
   "source": [
    "def get_excert(paragraph):\n",
    "    \"\"\"\n",
    "    Gets a string \"paragraph\", split it by \" | \" (which we used to \n",
    "    separate multiple paragraphs), and returns the combination of parts of the first \n",
    "    and second paragraphs. If there is just one paragraph, returns a part of it.\n",
    "    \"\"\"\n",
    "    paragraph_list = paragraph.split('|')\n",
    "    if len(paragraph_list) > 1:\n",
    "        return paragraph_list[0][:200] + '... | ...' + paragraph_list[1][:200] \n",
    "    else:\n",
    "        return paragraph_list[0][:300]\n",
    "    \n",
    "\n",
    "def make_resumo(paragraph):\n",
    "    \"\"\"\n",
    "    Given a string 'paragraph' with all paragraphs of the DOU's article\n",
    "    (separated by ' | '), creates a excert that acts as an abstract of \n",
    "    the article and return it.\n",
    "    \"\"\"\n",
    "    if type(paragraph) == str:\n",
    "        # Look for a marker of start of a possible resumo:\n",
    "        marker = 'resolve: | '\n",
    "        marker_start = paragraph.find(marker)\n",
    "        # If no marker, just take the first paragraphs:\n",
    "        if marker_start == -1:\n",
    "            resumo = get_excert(paragraph)\n",
    "        # If marker, get the following paragraphs:\n",
    "        else:\n",
    "            marker_end = marker_start + len(marker)\n",
    "            paragraph  = paragraph[marker_end:]\n",
    "            resumo = get_excert(paragraph)\n",
    "        # Add ... to end of resumo if not the end of a phrase:\n",
    "        if resumo[-1] != '.' and resumo[-2:] != '. ':\n",
    "            resumo = resumo + '...'\n",
    "        return resumo\n",
    "    else:\n",
    "        return None\n",
    "    "
   ]
  },
  {
   "cell_type": "markdown",
   "metadata": {},
   "source": [
    "### Testing"
   ]
  },
  {
   "cell_type": "code",
   "execution_count": 1,
   "metadata": {},
   "outputs": [],
   "source": [
    "config = {\n",
    "    \"sched_interval\": 60,\n",
    "    \"date_format\": \"%Y-%m-%d\",\n",
    "    \"end_date\": \"2019-07-11\",\n",
    "    \"timedelta\": 0,\n",
    "    \"secao\": [\"e\"],\n",
    "    \"secao_all\":[1,2,\"e\"],\n",
    "    \"last_extra\": 0,\n",
    "    \"storage_path\": \"../temp/\",\n",
    "    \"save_articles\": False,\n",
    "    \"filter_file\": \"../filters/all_DOU_filters_2019-07-01.json\",\n",
    "    \"post_articles\": True,\n",
    "    \"slack_token\": \"../keys-configs/slack_token.pass\"\n",
    "}"
   ]
  },
  {
   "cell_type": "code",
   "execution_count": 2,
   "metadata": {},
   "outputs": [],
   "source": [
    "import requests\n",
    "# This project's functions:\n",
    "import global_settings as gs\n",
    "import get_articles_url as gu\n",
    "import parse_dou_article as pa\n",
    "import write_article as wa\n",
    "import filter_articles as fa\n",
    "import structure_article as sa\n",
    "import post_to_slack as ps\n"
   ]
  },
  {
   "cell_type": "code",
   "execution_count": 3,
   "metadata": {},
   "outputs": [
    {
     "name": "stdout",
     "output_type": "stream",
     "text": [
      "Getting articles' URLs...\n",
      "Starting get_articles_url with config:\n",
      "{'sched_interval': 60, 'date_format': '%Y-%m-%d', 'end_date': '2019-07-11', 'timedelta': 0, 'secao': ['e'], 'secao_all': [1, 2, 'e'], 'last_extra': 0, 'storage_path': '../temp/', 'save_articles': False, 'filter_file': '../filters/all_DOU_filters_2019-07-01.json', 'post_articles': True, 'slack_token': '../keys-configs/slack_token.pass'}\n",
      "Reading date range...\n",
      "Reading selected sections...\n",
      "Will enter loop over config date and section range:\n",
      "-- 2019-07-11\n",
      "   -- se\n",
      "      Looping over URLs...\n",
      "# URLs: 9\n"
     ]
    }
   ],
   "source": [
    "    # Get list of URLs and filenames (in case one wants to save the articles):    \n",
    "    if gs.debug:\n",
    "        print(\"Getting articles' URLs...\")\n",
    "    url_file_list, next_config = gu.get_articles_url(config)\n",
    "    Nurls = len(url_file_list)\n",
    "    if True or gs.debug:\n",
    "        print('# URLs:', Nurls)"
   ]
  },
  {
   "cell_type": "code",
   "execution_count": 4,
   "metadata": {},
   "outputs": [],
   "source": [
    "# Specifies number of retries for GET:\n",
    "session = requests.Session()\n",
    "session.mount('http://www.in.gov.br', requests.adapters.HTTPAdapter(max_retries=3))\n"
   ]
  },
  {
   "cell_type": "code",
   "execution_count": 8,
   "metadata": {},
   "outputs": [],
   "source": [
    "url_file = url_file_list[3]\n",
    "#url_file['url'] = 'http://www.in.gov.br/web/dou/-/decreto-de-19-de-junho-de-2019-167085561'\n",
    "#url_file['url'] = 'http://www.in.gov.br/web/dou/-/portaria-n-70-de-12-de-agosto-de-2019-210735799'\n",
    "#url_file['url'] = 'http://www.in.gov.br/web/dou/-/portaria-n-1.480-de-9-de-agosto-de-2019-210283760'\n",
    "#url_file['url'] = 'http://www.in.gov.br/web/dou/-/despacho-209287540'\n",
    "#url_file['url'] = 'http://www.in.gov.br/web/dou/-/portaria-n-1.303-de-1-de-julho-de-2019-209010426'\n",
    "url_file['url'] = 'http://www.in.gov.br/web/dou/-/decreto-n-9.970-de-14-de-agosto-de-2019-210740817'\n",
    "response = session.get(url_file['url'], timeout=5)\n",
    "\n",
    "raw_article = pa.parse_dou_article(response, url_file['url'])"
   ]
  },
  {
   "cell_type": "code",
   "execution_count": 9,
   "metadata": {},
   "outputs": [
    {
     "name": "stdout",
     "output_type": "stream",
     "text": [
      ", no uso da atribuição que lhe confere o art. 84, ... | ... , inciso VI, alínea \"a\", da Constituição, ...\n"
     ]
    }
   ],
   "source": [
    "article = sa.structure_article(raw_article)\n",
    "\n",
    "print(article['resumo'])"
   ]
  },
  {
   "cell_type": "code",
   "execution_count": 10,
   "metadata": {},
   "outputs": [
    {
     "data": {
      "text/plain": [
       "{'secao': '1',\n",
       " 'orgao': 'Atos do Poder Executivo',\n",
       " 'assina': 'JAIR MESSIAS BOLSONARO | Onyx Lorenzoni',\n",
       " 'identifica': 'DECRETO Nº 9.970, DE 14 DE AGOSTO DE 2019',\n",
       " 'cargo': None,\n",
       " 'pagina': '1',\n",
       " 'edicao': '157',\n",
       " 'italico': None,\n",
       " 'ementa': 'Dispõe sobre o Comitê Federal de Assistência Emergencial.',\n",
       " 'strong': 'O PRESIDENTE DA REPÚBLICA | caput | D E C R E T A | caput',\n",
       " 'ato_orgao': None,\n",
       " 'subtitulo': None,\n",
       " 'paragraph': ', no uso da atribuição que lhe confere o art. 84, | , inciso VI, alínea \"a\", da Constituição, | : | Art. 1º Este Decreto dispõe sobre o Comitê Federal de Assistência Emergencial para acolhimento a pessoas em situação de vulnerabilidade decorrente de fluxo migratório provocado por crise humanitária. | Art. 2º O Comitê Federal de Assistência Emergencial é órgão deliberativo, instituído pelo art. 6º da Lei nº 13.684, de 21 junho de 2018, ao qual compete: | I - articular ações, projetos e atividades desenvolvidos com apoio dos Governos federal, estadual, distrital e municipal no âmbito da assistência emergencial; | II - estabelecer as diretrizes e as ações prioritárias do Governo federal para a implementação da assistência emergencial; | III - supervisionar o planejamento e a execução de ações conjuntas de órgãos que atuem na execução das medidas estabelecidas pelo Comitê; | IV - propor, aos órgãos competentes, medidas para assegurar os recursos necessários à implementação das ações, dos projetos e das atividades de assistência emergencial; | V - firmar parcerias com: | a) órgãos dos Poderes Executivo, Legislativo e Judiciário; | b) entes federativos; | c) organizações da sociedade civil; | d) entidades privadas; | e) especialistas; e | f) organismos internacionais; | VI - acompanhar e avaliar a execução da assistência emergencial e adotar medidas para a mitigação de riscos; e | VII - elaborar relatório semestral de suas atividades, com a avaliação da execução e dos resultados das políticas. | § 1º Compete, ainda, ao Comitê Federal de Assistência Emergencial indicar Coordenador Operacional para atuar em área afetada por fluxo migratório provocado por crise humanitária. | § 2º Incumbe ao Coordenador Operacional de que trata o § 1º: | I - executar as ações e os projetos estabelecidos pelo Comitê Federal de Assistência Emergencial para o apoio e o acolhimento das pessoas em situação de vulnerabilidade decorrente de fluxo migratório provocado por crise humanitária; | II - elaborar plano operacional para a área afetada e coordenar a sua execução, em conformidade com as diretrizes e as ações prioritárias estabelecidas pelo Comitê Federal de Assistência Emergencial; | III - coordenar e ser responsável pela logística e pela distribuição de insumos; e | IV - informar o Comitê Federal de Assistência Emergencial, por meio de relatórios periódicos, sobre as situações ocorridas na área afetada. | § 3º Os relatórios semestrais a que se refere o inciso VII do | serão publicados em sítio eletrônico do Governo federal no prazo de até sessenta dias, contado do encerramento do semestre ao qual se refere o relatório. | Art. 3º O Comitê Federal de Assistência Emergencial é composto pelos seguintes membros: | I - Ministro de Estado Chefe da Casa Civil da Presidência da República, que o presidirá; | II - Ministro de Estado da Justiça e Segurança Pública; | III - Ministro de Estado da Defesa; | IV - Ministro de Estado das Relações Exteriores; | V - Ministro de Estado da Economia; | VI - Ministro de Estado da Educação; | VII - Ministro de Estado da Cidadania; | VIII - Ministro de Estado da Saúde; | IX - Ministro de Estado do Desenvolvimento Regional; | X - Ministro de Estado da Mulher, da Família e dos Direitos Humanos; e | XI - Ministro de Estado Chefe do Gabinete de Segurança Institucional da Presidência da República. | § 1º Os membros titulares indicarão dois suplentes, ocupantes de cargo em comissão ou função de confiança de nível equivalente ou superior ao nível 6 do Grupo-Direção e Assessoramento Superiores - DAS, ou no caso do Ministério da Defesa, alternativamente, por oficiais-generais que ocupem cargo equivalente, que serão designados pelo Ministro de Estado Chefe da Casa Civil da Presidência da República. | § 2º O Comitê Federal de Assistência Emergencial poderá convidar representantes de órgãos e entidades da União, dos Estados, do Distrito Federal, dos Municípios, de organizações da sociedade civil, de organismos internacionais e de entidades privadas para colaborar com as suas atividades. | Art. 4º O Comitê Federal de Assistência Emergencial se reunirá, em caráter ordinário, bimestralmente e, em caráter extraordinário, sempre que convocado por seu Presidente. | § 1º O Comitê Federal de Assistência Emergencial deliberará por meio de resoluções. | § 2º O quórum de aprovação do Comitê Federal de Assistência Emergencial é de maioria simples. | § 3º Além do voto ordinário, o Presidente do Comitê Federal de Assistência Emergencial terá o voto de qualidade em caso de empate. | Art. 5º O Comitê Federal de Assistência Emergencial poderá criar sala de situação, a ser mantida na cidade de Brasília, Distrito Federal, para monitoramento permanente de situação de emergência. | § 1º A sala de situação expedirá relatórios com periodicidade a ser definida pelo Comitê Federal de Assistência Emergencial. | § 2º A composição da sala de situação será definida de acordo com as ações propostas pelo Comitê Federal de Assistência Emergencial. | Art. 6º O Comitê Federal de Assistência Emergencial contará com os seguintes Subcomitês Federais: | I - Subcomitê Federal para Recepção, Identificação e Triagem dos Imigrantes; | II - Subcomitê Federal para Acolhimento aos Imigrantes em Situação de Vulnerabilidade; | III - Subcomitê Federal para Interiorização; e | IV - Subcomitê Federal para Ações de Saúde aos Imigrantes. | § 1º O Subcomitê Federal para Recepção, Identificação e Triagem dos Imigrantes é composto por representes dos seguintes órgãos: | I - um do Ministério da Justiça e Segurança Pública, que o coordenará; | II - um do Ministério da Defesa; | III - um do Ministério das Relações Exteriores; | IV - um do Ministério da Economia; | V - um do Ministério da Agricultura, Pecuária e Abastecimento; | VI - um do Ministério da Cidadania; | VII - um do Ministério da Saúde; | VIII - um do Ministério da Mulher, da Família e dos Direitos Humanos; e | IX - um do Gabinete de Segurança Institucional da Presidência da República. | § 2º O Subcomitê Federal para Acolhimento aos Imigrantes em Situação de Vulnerabilidade é composto por representes dos seguintes órgãos: | I - um do Ministério da Cidadania, que o coordenará; | II - um do Ministério da Justiça e Segurança Pública; | III - um do Ministério da Defesa; | IV - um do Ministério da Educação; | V - um do Ministério da Saúde; e | VI - um do Ministério da Mulher, da Família e Direitos Humanos. | § 3º O Subcomitê Federal para Interiorização é composto por representes dos seguintes órgãos: | I - um do Ministério da Cidadania, que o coordenará; | II - um do Ministério da Justiça e Segurança Pública; | III - um do Ministério da Defesa; | IV - um do Ministério das Relações Exteriores; | V - um do Ministério da Economia; | VI - um do Ministério da Saúde; e | VII - um do Ministério da Mulher, da Família e dos Direitos Humanos. | § 4º O Subcomitê Federal para Ações de Saúde aos Imigrantes é composto por representes dos seguintes órgãos: | I - um do Ministério da Saúde, que o coordenará; e | II - um do Ministério da Defesa. | § 5º Cada membro dos Subcomitês Federais a que se referem os § 1º ao § 4º terá um suplente, que o substituirá em suas ausências e seus impedimentos. | § 6º Os membros dos Subcomitês Federais a que se referem os § 1º ao § 4º serão indicados pelos titulares dos órgãos que representam e designados pelo Presidente do Comitê Federal de Assistência Emergencial. | § 7º Em suas ausências e seus impedimentos, o Coordenador do Subcomitê Federal para Interiorização será substituído pelo membro titular do Ministério da Justiça e Segurança Pública. | § 8º O Comitê Federal de Assistência Emergencial editará ato para dispor sobre os objetivos específicos e o funcionamento dos seus Subcomitês. | Art. 7º Os membros do Comitê Federal de Assistência Emergencial e dos Subcomitês Federais que se encontrarem no Distrito Federal se reunirão presencialmente ou por meio de videoconferência, a critério de seu Presidente, e os membros que se encontrarem em outros entes federativos participarão da reunião por meio de videoconferência ou por outros meios telemáticos. | Art. 8º A Secretaria-Executiva do Comitê Federal de Assistência Emergencial será exercida pela Casa Civil da Presidência da República. | Art. 9º A participação no Comitê Federal de Assistência Emergencial e nos Subcomitês Federais será considerada prestação de serviço público relevante, não remunerada. | Art. 10. Fica revogado o Decreto nº 9.286, de 15 de fevereiro de 2018. | Art. 11. Este Decreto entra em vigor na data de sua publicação. | Brasília, 14 de agosto de 2019; 198º da Independência e 131º da República.',\n",
       " 'pub_date': '15/08/2019',\n",
       " 'assinaPr': 'JAIR MESSIAS BOLSONARO',\n",
       " 'capture_date': '2019-08-22 19:43:39',\n",
       " 'url': 'http://www.in.gov.br/web/dou/-/decreto-n-9.970-de-14-de-agosto-de-2019-210740817',\n",
       " 'url_certificado': 'http://pesquisa.in.gov.br/imprensa/jsp/visualiza/index.jsp?data=15/08/2019&jornal=515&pagina=1',\n",
       " 'alltext': 'Dispõe sobre o Comitê Federal de Assistência Emergencial. | O PRESIDENTE DA REPÚBLICA | caput | D E C R E T A | caput | , no uso da atribuição que lhe confere o art. 84, | , inciso VI, alínea \"a\", da Constituição, | : | Art. 1º Este Decreto dispõe sobre o Comitê Federal de Assistência Emergencial para acolhimento a pessoas em situação de vulnerabilidade decorrente de fluxo migratório provocado por crise humanitária. | Art. 2º O Comitê Federal de Assistência Emergencial é órgão deliberativo, instituído pelo art. 6º da Lei nº 13.684, de 21 junho de 2018, ao qual compete: | I - articular ações, projetos e atividades desenvolvidos com apoio dos Governos federal, estadual, distrital e municipal no âmbito da assistência emergencial; | II - estabelecer as diretrizes e as ações prioritárias do Governo federal para a implementação da assistência emergencial; | III - supervisionar o planejamento e a execução de ações conjuntas de órgãos que atuem na execução das medidas estabelecidas pelo Comitê; | IV - propor, aos órgãos competentes, medidas para assegurar os recursos necessários à implementação das ações, dos projetos e das atividades de assistência emergencial; | V - firmar parcerias com: | a) órgãos dos Poderes Executivo, Legislativo e Judiciário; | b) entes federativos; | c) organizações da sociedade civil; | d) entidades privadas; | e) especialistas; e | f) organismos internacionais; | VI - acompanhar e avaliar a execução da assistência emergencial e adotar medidas para a mitigação de riscos; e | VII - elaborar relatório semestral de suas atividades, com a avaliação da execução e dos resultados das políticas. | § 1º Compete, ainda, ao Comitê Federal de Assistência Emergencial indicar Coordenador Operacional para atuar em área afetada por fluxo migratório provocado por crise humanitária. | § 2º Incumbe ao Coordenador Operacional de que trata o § 1º: | I - executar as ações e os projetos estabelecidos pelo Comitê Federal de Assistência Emergencial para o apoio e o acolhimento das pessoas em situação de vulnerabilidade decorrente de fluxo migratório provocado por crise humanitária; | II - elaborar plano operacional para a área afetada e coordenar a sua execução, em conformidade com as diretrizes e as ações prioritárias estabelecidas pelo Comitê Federal de Assistência Emergencial; | III - coordenar e ser responsável pela logística e pela distribuição de insumos; e | IV - informar o Comitê Federal de Assistência Emergencial, por meio de relatórios periódicos, sobre as situações ocorridas na área afetada. | § 3º Os relatórios semestrais a que se refere o inciso VII do | serão publicados em sítio eletrônico do Governo federal no prazo de até sessenta dias, contado do encerramento do semestre ao qual se refere o relatório. | Art. 3º O Comitê Federal de Assistência Emergencial é composto pelos seguintes membros: | I - Ministro de Estado Chefe da Casa Civil da Presidência da República, que o presidirá; | II - Ministro de Estado da Justiça e Segurança Pública; | III - Ministro de Estado da Defesa; | IV - Ministro de Estado das Relações Exteriores; | V - Ministro de Estado da Economia; | VI - Ministro de Estado da Educação; | VII - Ministro de Estado da Cidadania; | VIII - Ministro de Estado da Saúde; | IX - Ministro de Estado do Desenvolvimento Regional; | X - Ministro de Estado da Mulher, da Família e dos Direitos Humanos; e | XI - Ministro de Estado Chefe do Gabinete de Segurança Institucional da Presidência da República. | § 1º Os membros titulares indicarão dois suplentes, ocupantes de cargo em comissão ou função de confiança de nível equivalente ou superior ao nível 6 do Grupo-Direção e Assessoramento Superiores - DAS, ou no caso do Ministério da Defesa, alternativamente, por oficiais-generais que ocupem cargo equivalente, que serão designados pelo Ministro de Estado Chefe da Casa Civil da Presidência da República. | § 2º O Comitê Federal de Assistência Emergencial poderá convidar representantes de órgãos e entidades da União, dos Estados, do Distrito Federal, dos Municípios, de organizações da sociedade civil, de organismos internacionais e de entidades privadas para colaborar com as suas atividades. | Art. 4º O Comitê Federal de Assistência Emergencial se reunirá, em caráter ordinário, bimestralmente e, em caráter extraordinário, sempre que convocado por seu Presidente. | § 1º O Comitê Federal de Assistência Emergencial deliberará por meio de resoluções. | § 2º O quórum de aprovação do Comitê Federal de Assistência Emergencial é de maioria simples. | § 3º Além do voto ordinário, o Presidente do Comitê Federal de Assistência Emergencial terá o voto de qualidade em caso de empate. | Art. 5º O Comitê Federal de Assistência Emergencial poderá criar sala de situação, a ser mantida na cidade de Brasília, Distrito Federal, para monitoramento permanente de situação de emergência. | § 1º A sala de situação expedirá relatórios com periodicidade a ser definida pelo Comitê Federal de Assistência Emergencial. | § 2º A composição da sala de situação será definida de acordo com as ações propostas pelo Comitê Federal de Assistência Emergencial. | Art. 6º O Comitê Federal de Assistência Emergencial contará com os seguintes Subcomitês Federais: | I - Subcomitê Federal para Recepção, Identificação e Triagem dos Imigrantes; | II - Subcomitê Federal para Acolhimento aos Imigrantes em Situação de Vulnerabilidade; | III - Subcomitê Federal para Interiorização; e | IV - Subcomitê Federal para Ações de Saúde aos Imigrantes. | § 1º O Subcomitê Federal para Recepção, Identificação e Triagem dos Imigrantes é composto por representes dos seguintes órgãos: | I - um do Ministério da Justiça e Segurança Pública, que o coordenará; | II - um do Ministério da Defesa; | III - um do Ministério das Relações Exteriores; | IV - um do Ministério da Economia; | V - um do Ministério da Agricultura, Pecuária e Abastecimento; | VI - um do Ministério da Cidadania; | VII - um do Ministério da Saúde; | VIII - um do Ministério da Mulher, da Família e dos Direitos Humanos; e | IX - um do Gabinete de Segurança Institucional da Presidência da República. | § 2º O Subcomitê Federal para Acolhimento aos Imigrantes em Situação de Vulnerabilidade é composto por representes dos seguintes órgãos: | I - um do Ministério da Cidadania, que o coordenará; | II - um do Ministério da Justiça e Segurança Pública; | III - um do Ministério da Defesa; | IV - um do Ministério da Educação; | V - um do Ministério da Saúde; e | VI - um do Ministério da Mulher, da Família e Direitos Humanos. | § 3º O Subcomitê Federal para Interiorização é composto por representes dos seguintes órgãos: | I - um do Ministério da Cidadania, que o coordenará; | II - um do Ministério da Justiça e Segurança Pública; | III - um do Ministério da Defesa; | IV - um do Ministério das Relações Exteriores; | V - um do Ministério da Economia; | VI - um do Ministério da Saúde; e | VII - um do Ministério da Mulher, da Família e dos Direitos Humanos. | § 4º O Subcomitê Federal para Ações de Saúde aos Imigrantes é composto por representes dos seguintes órgãos: | I - um do Ministério da Saúde, que o coordenará; e | II - um do Ministério da Defesa. | § 5º Cada membro dos Subcomitês Federais a que se referem os § 1º ao § 4º terá um suplente, que o substituirá em suas ausências e seus impedimentos. | § 6º Os membros dos Subcomitês Federais a que se referem os § 1º ao § 4º serão indicados pelos titulares dos órgãos que representam e designados pelo Presidente do Comitê Federal de Assistência Emergencial. | § 7º Em suas ausências e seus impedimentos, o Coordenador do Subcomitê Federal para Interiorização será substituído pelo membro titular do Ministério da Justiça e Segurança Pública. | § 8º O Comitê Federal de Assistência Emergencial editará ato para dispor sobre os objetivos específicos e o funcionamento dos seus Subcomitês. | Art. 7º Os membros do Comitê Federal de Assistência Emergencial e dos Subcomitês Federais que se encontrarem no Distrito Federal se reunirão presencialmente ou por meio de videoconferência, a critério de seu Presidente, e os membros que se encontrarem em outros entes federativos participarão da reunião por meio de videoconferência ou por outros meios telemáticos. | Art. 8º A Secretaria-Executiva do Comitê Federal de Assistência Emergencial será exercida pela Casa Civil da Presidência da República. | Art. 9º A participação no Comitê Federal de Assistência Emergencial e nos Subcomitês Federais será considerada prestação de serviço público relevante, não remunerada. | Art. 10. Fica revogado o Decreto nº 9.286, de 15 de fevereiro de 2018. | Art. 11. Este Decreto entra em vigor na data de sua publicação. | Brasília, 14 de agosto de 2019; 198º da Independência e 131º da República.',\n",
       " 'resumo': ', no uso da atribuição que lhe confere o art. 84, ... | ... , inciso VI, alínea \"a\", da Constituição, ...'}"
      ]
     },
     "execution_count": 10,
     "metadata": {},
     "output_type": "execute_result"
    }
   ],
   "source": [
    "article"
   ]
  },
  {
   "cell_type": "markdown",
   "metadata": {},
   "source": [
    "## Prototyping assinaPr"
   ]
  },
  {
   "cell_type": "code",
   "execution_count": null,
   "metadata": {},
   "outputs": [],
   "source": [
    "# Prototyping the use of 'assinaPr':\n",
    "def structure_article(article_raw):\n",
    "    \"\"\"\n",
    "    Takes a list of dicts that represent a DOU article with the keywords\n",
    "    key, value, capture_date, url and url_certificado and select relevant \n",
    "    keys (hard-coded), rename them and output a dict with only the relevant \n",
    "    keys.\n",
    "    \"\"\"\n",
    "    relevant_keys = ['secao-dou', 'orgao-dou-data', 'assina', 'identifica', 'cargo', 'secao-dou-data', \n",
    "                     'edicao-dou-data', 'dou-em', 'ementa', 'dou-strong', 'titulo', 'subtitulo', \n",
    "                     'dou-paragraph', 'publicado-dou-data', 'assinaPr']\n",
    "    new_keys      = ['secao', 'orgao', 'assina', 'identifica', 'cargo', 'pagina',\n",
    "                     'edicao', 'italico', 'ementa', 'strong', 'ato_orgao', 'subtitulo', \n",
    "                     'paragraph', 'pub_date', 'assinaPr']\n",
    "    \n",
    "    relevant_values = [sa.get_key_value(key, article_raw) for key in relevant_keys]\n",
    "    struct = dict(zip(new_keys, relevant_values))\n",
    "    \n",
    "    # Join with identifying fields:\n",
    "    struct['capture_date']    = article_raw[0]['capture_date']\n",
    "    struct['url']             = article_raw[0]['url']\n",
    "    struct['url_certificado'] = article_raw[0]['url_certificado']\n",
    "    \n",
    "    # Format selected fields:\n",
    "    struct['secao']  = struct['secao'].split('|')[0].split(':')[1].strip()\n",
    "    struct['assina'] = struct['assina'] if struct['assinaPr'] == None else struct['assinaPr'] + ' | ' + struct['assina'] \n",
    "    \n",
    "    # Create new field (all the text):\n",
    "    fields_list = filter(lambda s: s!=None, [struct['ato_orgao'], struct['subtitulo'], struct['ementa'], \n",
    "                                            struct['strong'], struct['italico'], struct['paragraph']])\n",
    "    struct['alltext'] = ' | '.join(fields_list)\n",
    "    # Another new field (a clipping):\n",
    "    struct['resumo'] = sa.make_resumo(struct['paragraph'])\n",
    "        \n",
    "    return struct"
   ]
  },
  {
   "cell_type": "code",
   "execution_count": null,
   "metadata": {},
   "outputs": [],
   "source": []
  }
 ],
 "metadata": {
  "kernelspec": {
   "display_name": "Python 3",
   "language": "python",
   "name": "python3"
  },
  "language_info": {
   "codemirror_mode": {
    "name": "ipython",
    "version": 3
   },
   "file_extension": ".py",
   "mimetype": "text/x-python",
   "name": "python",
   "nbconvert_exporter": "python",
   "pygments_lexer": "ipython3",
   "version": "3.6.8"
  }
 },
 "nbformat": 4,
 "nbformat_minor": 2
}

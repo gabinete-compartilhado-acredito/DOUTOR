{
 "cells": [
  {
   "cell_type": "markdown",
   "metadata": {},
   "source": [
    "# Prototyping for local captura_dou version\n",
    "---"
   ]
  },
  {
   "cell_type": "markdown",
   "metadata": {},
   "source": [
    "## Prototyping"
   ]
  },
  {
   "cell_type": "code",
   "execution_count": 1,
   "metadata": {},
   "outputs": [],
   "source": [
    "import time\n",
    "import capture_driver as cd\n",
    "import global_settings as gs\n",
    "\n",
    "if not gs.local:\n",
    "    import boto3                                  \n",
    "    from dynamodb_json import json_util as dyjson"
   ]
  },
  {
   "cell_type": "code",
   "execution_count": null,
   "metadata": {},
   "outputs": [],
   "source": [
    "def lambda_handler(event, context):\n",
    "    client = boto3.client('dynamodb')\n",
    "    \n",
    "    # Load config from AWS DynamoDB:\n",
    "    config = client.get_item(TableName=\"configs\",  Key={'name': {'S': 'capture_DOU'}})\n",
    "    config = dyjson.loads(config)['Item']\n",
    "    \n",
    "    # Run DOU articles capture:\n",
    "    updated_config = cd.capture_DOU_driver(config)\n",
    "    \n",
    "    # Save config to AWS DynamoDB:\n",
    "    response = client.put_item(TableName=\"configs\", Item=dyjson.dumps(updated_config, as_dict=True))"
   ]
  },
  {
   "cell_type": "code",
   "execution_count": 10,
   "metadata": {},
   "outputs": [],
   "source": [
    "def local_scheduler(config):\n",
    "    while True:\n",
    "        print(time.strftime('%Y-%m-%d %H:%M:%S', time.localtime()))\n",
    "        config = cd.capture_DOU_driver(config)\n",
    "        time.sleep(60*config['sched_interval'])"
   ]
  },
  {
   "cell_type": "code",
   "execution_count": 9,
   "metadata": {},
   "outputs": [
    {
     "data": {
      "text/plain": [
       "'2019-06-25 15:00:35'"
      ]
     },
     "execution_count": 9,
     "metadata": {},
     "output_type": "execute_result"
    }
   ],
   "source": []
  },
  {
   "cell_type": "code",
   "execution_count": 3,
   "metadata": {},
   "outputs": [
    {
     "name": "stdout",
     "output_type": "stream",
     "text": [
      "../configs/capture_DOU_test.json\n",
      "Getting articles' URLs...\n",
      "Starting get_articles_url with config:\n",
      "{'sched_interval': 1, 'date_format': '%Y-%m-%d', 'end_date': '2019-06-21', 'timedelta': 0, 'secao': ['e'], 'secao_all': [1, 2, 3, 'e'], 'storage_path': '../temp/', 'save_articles': True, 'filter_file': '../filters/all_DOU_filters_2019-06-23.json', 'post_articles': False, 'slack_token': '../keys-configs/slack_token.pass'}\n",
      "Reading date range...\n",
      "Reading selected sections...\n",
      "Will enter loop over config date and section range:\n",
      "-- 2019-06-21\n",
      "   -- se\n",
      "      Looping over articles...\n",
      "# URLs: 2\n",
      "Loading filters...\n",
      "Removing unecessary filters...\n",
      "Removed 0 filters.\n",
      "LOOP over URLs:\n",
      "Get article... 1\n",
      "Parse article...\n",
      "Saving article...\n",
      "Select relevant fields...\n",
      "Filtering article...\n",
      "name: DOU ME S1\n",
      "# articles: 1\n",
      "f {'column_name': 'orgao', 'positive_filter': ['Ministério da Educação']}\n",
      "# filtered articles: 0\n",
      "name: DOU ME exo-nom\n",
      "# articles: 1\n",
      "f {'column_name': 'orgao', 'positive_filter': ['Ministério da Educação'], 'negative_filter': ['Universidade', 'Instituto Federal']}\n",
      "# filtered articles: 0\n",
      "name: DOU presidente\n",
      "# articles: 1\n",
      "f {'column_name': 'assina', 'positive_filter': ['jair messias bolsonaro', 'mourão']}\n",
      "# filtered articles: 1\n",
      "name: DOU mulheres\n",
      "# articles: 1\n",
      "f {'column_name': 'alltext', 'positive_filter': ['direitos das mulheres', 'direito da mulher', 'direitos da mulher', 'estupro', 'violência doméstica', 'violência contra a mulher', 'comissão de defesa dos direitos das mulheres', 'secretaria da mulher', 'cota para mulheres', 'cotas para mulheres', 'cota no parlamento', 'licença paternal', 'licença paterna', 'licença maternidade', 'mulheres candidatas', 'candidatura laranja', 'candidatas laranja', 'candidatas laranjas', 'candidaturas fantasmas', 'candidatura fantasma', 'candidaturas fantasma', 'candidata fantasma', 'candidatas fantasmas', 'candidatas fantasma', 'delegacia da mulher', 'delegacia 24h', 'lei maria da penha', 'porte de armas', 'gravidez na adolescência', 'delegacia 24 horas', 'fundo partidário', 'fundo eleitoral']}\n",
      "# filtered articles: 0\n",
      "name: DOU mulheres\n",
      "# articles: 1\n",
      "f {'column_name': 'alltext', 'positive_filter': ['mulher'], 'negative_filter': ['direitos das mulheres', 'direito da mulher', 'direitos da mulher', 'estupro', 'violência doméstica', 'violência contra a mulher', 'comissão de defesa dos direitos das mulheres', 'secretaria da mulher', 'cota para mulheres', 'cotas para mulheres', 'cota no parlamento', 'licença paternal', 'licença paterna', 'licença maternidade', 'mulheres candidatas', 'candidatura laranja', 'candidatas laranja', 'candidatas laranjas', 'candidaturas fantasmas', 'candidatura fantasma', 'candidaturas fantasma', 'candidata fantasma', 'candidatas fantasmas', 'candidatas fantasma', 'delegacia da mulher', 'delegacia 24h', 'lei maria da penha', 'porte de armas', 'gravidez na adolescência', 'delegacia 24 horas', 'fundo partidário', 'fundo eleitoral']}\n",
      "# filtered articles: 0\n",
      "name: DOU drogas\n",
      "# articles: 1\n",
      "f {'column_name': 'alltext', 'positive_filter': ['drogas', 'redução de danos', 'anti-drogas', 'dependência química', 'dependentes químicos', 'psicotrópicos', 'entorpecentes', 'anti-droga', 'droga', 'dependente químico', 'psicotrópico', 'entorpecente', 'substâncias químicas', 'narcótico', 'narcóticos', 'alucinógeno', 'alucinógenos', 'alucinógena', 'alucinógenas'], 'negative_filter': ['drogaria']}\n",
      "# filtered articles: 0\n",
      "name: DOU economia\n",
      "# articles: 1\n",
      "f {'column_name': 'orgao', 'positive_filter': ['Ministério da Economia']}\n",
      "# filtered articles: 0\n",
      "name: DOU economia\n",
      "# articles: 1\n",
      "f {'column_name': 'secao', 'positive_filter': ['1']}\n",
      "# filtered articles: 0\n",
      "name: DOU infraestrutura\n",
      "# articles: 1\n",
      "f {'column_name': 'orgao', 'positive_filter': ['Ministério da Infraestrutura', 'Ministério do Desenvolvimento Regional']}\n",
      "# filtered articles: 0\n",
      "name: DOU infraestrutura\n",
      "# articles: 1\n",
      "f {'column_name': 'secao', 'positive_filter': ['1']}\n",
      "# filtered articles: 0\n",
      "name: DOU eficiência pública\n",
      "# articles: 1\n",
      "f {'column_name': 'secao', 'positive_filter': ['1']}\n",
      "# filtered articles: 0\n",
      "Get article... 2\n",
      "Parse article...\n",
      "Saving article...\n",
      "Select relevant fields...\n",
      "Filtering article...\n",
      "name: DOU ME S1\n",
      "# articles: 1\n",
      "f {'column_name': 'orgao', 'positive_filter': ['Ministério da Educação']}\n",
      "# filtered articles: 0\n",
      "name: DOU ME exo-nom\n",
      "# articles: 1\n",
      "f {'column_name': 'orgao', 'positive_filter': ['Ministério da Educação'], 'negative_filter': ['Universidade', 'Instituto Federal']}\n",
      "# filtered articles: 0\n",
      "name: DOU presidente\n",
      "# articles: 1\n",
      "f {'column_name': 'assina', 'positive_filter': ['jair messias bolsonaro', 'mourão']}\n",
      "# filtered articles: 1\n",
      "name: DOU mulheres\n",
      "# articles: 1\n",
      "f {'column_name': 'alltext', 'positive_filter': ['direitos das mulheres', 'direito da mulher', 'direitos da mulher', 'estupro', 'violência doméstica', 'violência contra a mulher', 'comissão de defesa dos direitos das mulheres', 'secretaria da mulher', 'cota para mulheres', 'cotas para mulheres', 'cota no parlamento', 'licença paternal', 'licença paterna', 'licença maternidade', 'mulheres candidatas', 'candidatura laranja', 'candidatas laranja', 'candidatas laranjas', 'candidaturas fantasmas', 'candidatura fantasma', 'candidaturas fantasma', 'candidata fantasma', 'candidatas fantasmas', 'candidatas fantasma', 'delegacia da mulher', 'delegacia 24h', 'lei maria da penha', 'porte de armas', 'gravidez na adolescência', 'delegacia 24 horas', 'fundo partidário', 'fundo eleitoral']}\n",
      "# filtered articles: 0\n",
      "name: DOU mulheres\n",
      "# articles: 1\n",
      "f {'column_name': 'alltext', 'positive_filter': ['mulher'], 'negative_filter': ['direitos das mulheres', 'direito da mulher', 'direitos da mulher', 'estupro', 'violência doméstica', 'violência contra a mulher', 'comissão de defesa dos direitos das mulheres', 'secretaria da mulher', 'cota para mulheres', 'cotas para mulheres', 'cota no parlamento', 'licença paternal', 'licença paterna', 'licença maternidade', 'mulheres candidatas', 'candidatura laranja', 'candidatas laranja', 'candidatas laranjas', 'candidaturas fantasmas', 'candidatura fantasma', 'candidaturas fantasma', 'candidata fantasma', 'candidatas fantasmas', 'candidatas fantasma', 'delegacia da mulher', 'delegacia 24h', 'lei maria da penha', 'porte de armas', 'gravidez na adolescência', 'delegacia 24 horas', 'fundo partidário', 'fundo eleitoral']}\n",
      "# filtered articles: 0\n",
      "name: DOU drogas\n",
      "# articles: 1\n",
      "f {'column_name': 'alltext', 'positive_filter': ['drogas', 'redução de danos', 'anti-drogas', 'dependência química', 'dependentes químicos', 'psicotrópicos', 'entorpecentes', 'anti-droga', 'droga', 'dependente químico', 'psicotrópico', 'entorpecente', 'substâncias químicas', 'narcótico', 'narcóticos', 'alucinógeno', 'alucinógenos', 'alucinógena', 'alucinógenas'], 'negative_filter': ['drogaria']}\n",
      "# filtered articles: 0\n",
      "name: DOU economia\n",
      "# articles: 1\n",
      "f {'column_name': 'orgao', 'positive_filter': ['Ministério da Economia']}\n",
      "# filtered articles: 0\n",
      "name: DOU economia\n",
      "# articles: 1\n",
      "f {'column_name': 'secao', 'positive_filter': ['1']}\n",
      "# filtered articles: 0\n",
      "name: DOU infraestrutura\n",
      "# articles: 1\n",
      "f {'column_name': 'orgao', 'positive_filter': ['Ministério da Infraestrutura', 'Ministério do Desenvolvimento Regional']}\n",
      "# filtered articles: 0\n",
      "name: DOU infraestrutura\n",
      "# articles: 1\n",
      "f {'column_name': 'secao', 'positive_filter': ['1']}\n",
      "# filtered articles: 0\n",
      "name: DOU eficiência pública\n",
      "# articles: 1\n",
      "f {'column_name': 'secao', 'positive_filter': ['1']}\n",
      "# filtered articles: 0\n",
      "{'sched_interval': 1, 'date_format': '%Y-%m-%d', 'end_date': '2019-06-22', 'timedelta': 0, 'secao': [1, 2, 3, 'e'], 'secao_all': [1, 2, 3, 'e'], 'storage_path': '../temp/', 'save_articles': True, 'filter_file': '../filters/all_DOU_filters_2019-06-23.json', 'post_articles': False, 'slack_token': '../keys-configs/slack_token.pass'}\n",
      "Getting articles' URLs...\n",
      "Starting get_articles_url with config:\n",
      "{'sched_interval': 1, 'date_format': '%Y-%m-%d', 'end_date': '2019-06-22', 'timedelta': 0, 'secao': [1, 2, 3, 'e'], 'secao_all': [1, 2, 3, 'e'], 'storage_path': '../temp/', 'save_articles': True, 'filter_file': '../filters/all_DOU_filters_2019-06-23.json', 'post_articles': False, 'slack_token': '../keys-configs/slack_token.pass'}\n",
      "Reading date range...\n",
      "Reading selected sections...\n",
      "Will enter loop over config date and section range:\n",
      "-- 2019-06-22\n",
      "   -- s1\n"
     ]
    },
    {
     "name": "stdout",
     "output_type": "stream",
     "text": [
      "      Looping over articles...\n",
      "   -- s2\n",
      "      Looping over articles...\n",
      "   -- s3\n",
      "      Looping over articles...\n",
      "   -- se\n",
      "      Looping over articles...\n",
      "{'sched_interval': 1, 'date_format': '%Y-%m-%d', 'end_date': '2019-06-23', 'timedelta': 0, 'secao': [1, 2, 3, 'e'], 'secao_all': [1, 2, 3, 'e'], 'storage_path': '../temp/', 'save_articles': True, 'filter_file': '../filters/all_DOU_filters_2019-06-23.json', 'post_articles': False, 'slack_token': '../keys-configs/slack_token.pass'}\n",
      "Getting articles' URLs...\n",
      "Starting get_articles_url with config:\n",
      "{'sched_interval': 1, 'date_format': '%Y-%m-%d', 'end_date': '2019-06-23', 'timedelta': 0, 'secao': [1, 2, 3, 'e'], 'secao_all': [1, 2, 3, 'e'], 'storage_path': '../temp/', 'save_articles': True, 'filter_file': '../filters/all_DOU_filters_2019-06-23.json', 'post_articles': False, 'slack_token': '../keys-configs/slack_token.pass'}\n",
      "Reading date range...\n",
      "Reading selected sections...\n",
      "Will enter loop over config date and section range:\n",
      "-- 2019-06-23\n",
      "   -- s1\n",
      "      Looping over articles...\n",
      "   -- s2\n",
      "      Looping over articles...\n",
      "   -- s3\n",
      "      Looping over articles...\n",
      "   -- se\n",
      "      Looping over articles...\n"
     ]
    },
    {
     "ename": "KeyboardInterrupt",
     "evalue": "",
     "output_type": "error",
     "traceback": [
      "\u001b[0;31m---------------------------------------------------------------------------\u001b[0m",
      "\u001b[0;31mKeyboardInterrupt\u001b[0m                         Traceback (most recent call last)",
      "\u001b[0;32m<ipython-input-3-e7be0f42c3bd>\u001b[0m in \u001b[0;36m<module>\u001b[0;34m\u001b[0m\n\u001b[0;32m----> 1\u001b[0;31m \u001b[0mlocal_scheduler\u001b[0m\u001b[0;34m(\u001b[0m\u001b[0;34m'../configs/capture_DOU_test.json'\u001b[0m\u001b[0;34m)\u001b[0m\u001b[0;34m\u001b[0m\u001b[0;34m\u001b[0m\u001b[0m\n\u001b[0m",
      "\u001b[0;32m<ipython-input-2-031d7b6a6332>\u001b[0m in \u001b[0;36mlocal_scheduler\u001b[0;34m(config)\u001b[0m\n\u001b[1;32m      3\u001b[0m         \u001b[0mprint\u001b[0m\u001b[0;34m(\u001b[0m\u001b[0mconfig\u001b[0m\u001b[0;34m)\u001b[0m\u001b[0;34m\u001b[0m\u001b[0;34m\u001b[0m\u001b[0m\n\u001b[1;32m      4\u001b[0m         \u001b[0mconfig\u001b[0m \u001b[0;34m=\u001b[0m \u001b[0mcd\u001b[0m\u001b[0;34m.\u001b[0m\u001b[0mcapture_DOU_driver\u001b[0m\u001b[0;34m(\u001b[0m\u001b[0mconfig\u001b[0m\u001b[0;34m)\u001b[0m\u001b[0;34m\u001b[0m\u001b[0;34m\u001b[0m\u001b[0m\n\u001b[0;32m----> 5\u001b[0;31m         \u001b[0mtime\u001b[0m\u001b[0;34m.\u001b[0m\u001b[0msleep\u001b[0m\u001b[0;34m(\u001b[0m\u001b[0;36m60\u001b[0m\u001b[0;34m*\u001b[0m\u001b[0mconfig\u001b[0m\u001b[0;34m[\u001b[0m\u001b[0;34m'sched_interval'\u001b[0m\u001b[0;34m]\u001b[0m\u001b[0;34m)\u001b[0m\u001b[0;34m\u001b[0m\u001b[0;34m\u001b[0m\u001b[0m\n\u001b[0m",
      "\u001b[0;31mKeyboardInterrupt\u001b[0m: "
     ]
    }
   ],
   "source": [
    "local_scheduler('../configs/capture_DOU_test.json')"
   ]
  },
  {
   "cell_type": "markdown",
   "metadata": {},
   "source": [
    "## Work bench"
   ]
  }
 ],
 "metadata": {
  "kernelspec": {
   "display_name": "Python 3",
   "language": "python",
   "name": "python3"
  },
  "language_info": {
   "codemirror_mode": {
    "name": "ipython",
    "version": 3
   },
   "file_extension": ".py",
   "mimetype": "text/x-python",
   "name": "python",
   "nbconvert_exporter": "python",
   "pygments_lexer": "ipython3",
   "version": "3.6.8"
  }
 },
 "nbformat": 4,
 "nbformat_minor": 2
}
